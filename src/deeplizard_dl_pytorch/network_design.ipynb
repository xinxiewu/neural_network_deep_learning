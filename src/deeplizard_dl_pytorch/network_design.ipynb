{
 "cells": [
  {
   "cell_type": "markdown",
   "metadata": {},
   "source": [
    "# Neural Network Design"
   ]
  },
  {
   "cell_type": "code",
   "execution_count": 3,
   "metadata": {},
   "outputs": [],
   "source": [
    "import torch.nn as nn\n",
    "import torch.nn.functional as F"
   ]
  },
  {
   "cell_type": "markdown",
   "metadata": {},
   "source": [
    "The primary component to build neural network is layer, each layer has two primary components: \\\n",
    "&emsp;1. A transformation (code) \\\n",
    "&emsp;2. A collection of weights (data) \\\n",
    "<code>nn.Module & forward()</code>"
   ]
  },
  {
   "cell_type": "code",
   "execution_count": 4,
   "metadata": {},
   "outputs": [],
   "source": [
    "class MyNetwork(nn.Module):\n",
    "    def __init__(self) -> None:\n",
    "        super(MyNetwork, self).__init__()\n",
    "        self.conv1 = nn.Conv2d(in_channels=1, out_channels=6, kernel_size=5)\n",
    "        self.conv2 = nn.Conv2d(in_channels=6, out_channels=12, kernel_size=5)\n",
    "\n",
    "        self.fc1 = nn.Linear(in_features=12 * 4 * 4, out_features=120)\n",
    "        self.fc2 = nn.Linear(in_features=120, out_features=60)\n",
    "        self.out = nn.Linear(in_features=60, out_features=10)\n",
    "    \n",
    "    def forward(self, t):\n",
    "        # (1) Input layer\n",
    "        t = t\n",
    "        # (2) Hidden conv layer 1\n",
    "        t = self.conv1(t)\n",
    "        t = F.relu(t)\n",
    "        t = F.max_pool2d(t, kernel_size=2, stride=2)\n",
    "        # (3) Hidden conv layer 2\n",
    "        t = self.conv2(t)\n",
    "        t = F.relu(t)\n",
    "        t = F.max_pool2d(t, kernel_size=2, stride=2)\n",
    "        # (4) Hidden linear layer 1\n",
    "        t = t.reshape(-1, 12*4*4)\n",
    "        t = self.fc1(t)\n",
    "        t = F.relu(t)\n",
    "        # (5) Hidden linear layer 2\n",
    "        t = self.fc2(t)\n",
    "        t = F.relu(t)\n",
    "        # (6) Output linear layer \n",
    "        t = self.out(t)\n",
    "        # t = F.softmax(y, dim=1)\n",
    "        return t"
   ]
  },
  {
   "cell_type": "code",
   "execution_count": 11,
   "metadata": {},
   "outputs": [
    {
     "data": {
      "text/plain": [
       "Parameter containing:\n",
       "tensor([[[[ 0.1412, -0.1912,  0.1668, -0.0718, -0.1771],\n",
       "          [-0.1692,  0.1525, -0.0434,  0.1038, -0.0565],\n",
       "          [-0.0057,  0.0980,  0.1387,  0.1667, -0.0320],\n",
       "          [ 0.1335,  0.0163,  0.1401,  0.0451,  0.1253],\n",
       "          [ 0.0575,  0.1632,  0.0292, -0.0307, -0.0491]]],\n",
       "\n",
       "\n",
       "        [[[ 0.0284,  0.1486,  0.1245, -0.0309,  0.1594],\n",
       "          [-0.0302,  0.0900,  0.0618, -0.1294,  0.0770],\n",
       "          [ 0.0203, -0.1393, -0.0509,  0.0674, -0.0833],\n",
       "          [-0.1548, -0.1058,  0.1695, -0.0165, -0.0631],\n",
       "          [-0.1371,  0.1641,  0.0935,  0.0427,  0.0682]]],\n",
       "\n",
       "\n",
       "        [[[-0.0788,  0.1711,  0.1997, -0.0375,  0.1642],\n",
       "          [-0.1564, -0.1217,  0.1886,  0.0548,  0.1874],\n",
       "          [-0.0519,  0.0481,  0.1918, -0.1016, -0.0442],\n",
       "          [-0.1188,  0.0250,  0.1310, -0.0717,  0.0584],\n",
       "          [-0.1253,  0.0177, -0.0755,  0.1924, -0.0635]]],\n",
       "\n",
       "\n",
       "        [[[ 0.0116,  0.0811, -0.0974, -0.1791, -0.1839],\n",
       "          [-0.1851, -0.0678, -0.0182,  0.0743, -0.1235],\n",
       "          [-0.0892, -0.1331,  0.0604,  0.1626,  0.0541],\n",
       "          [ 0.0696, -0.1423,  0.0689, -0.1384, -0.1248],\n",
       "          [ 0.1826, -0.0819, -0.1619,  0.0068, -0.0475]]],\n",
       "\n",
       "\n",
       "        [[[ 0.1046,  0.0578, -0.1792, -0.0607, -0.0439],\n",
       "          [-0.1219,  0.1633, -0.0535, -0.0995, -0.1134],\n",
       "          [ 0.1015,  0.1262,  0.0343, -0.1597,  0.0546],\n",
       "          [-0.1558, -0.1036,  0.1630, -0.1720, -0.0561],\n",
       "          [-0.0091, -0.0994,  0.0090,  0.0823,  0.1241]]],\n",
       "\n",
       "\n",
       "        [[[-0.1270, -0.1954, -0.0561,  0.1064,  0.0739],\n",
       "          [ 0.0402,  0.1261, -0.0418, -0.0821,  0.1730],\n",
       "          [-0.0620,  0.1847, -0.1097, -0.1475, -0.1264],\n",
       "          [ 0.0740,  0.0481,  0.0516, -0.0159,  0.1270],\n",
       "          [ 0.1322, -0.1678, -0.1772,  0.0321,  0.1473]]]], requires_grad=True)"
      ]
     },
     "execution_count": 11,
     "metadata": {},
     "output_type": "execute_result"
    }
   ],
   "source": [
    "network = MyNetwork()\n",
    "network.conv1.weight"
   ]
  }
 ],
 "metadata": {
  "kernelspec": {
   "display_name": "Python 3",
   "language": "python",
   "name": "python3"
  },
  "language_info": {
   "codemirror_mode": {
    "name": "ipython",
    "version": 3
   },
   "file_extension": ".py",
   "mimetype": "text/x-python",
   "name": "python",
   "nbconvert_exporter": "python",
   "pygments_lexer": "ipython3",
   "version": "3.10.9"
  }
 },
 "nbformat": 4,
 "nbformat_minor": 2
}
